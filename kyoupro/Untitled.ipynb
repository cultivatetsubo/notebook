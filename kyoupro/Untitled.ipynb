{
 "cells": [
  {
   "cell_type": "code",
   "execution_count": 31,
   "metadata": {},
   "outputs": [
    {
     "name": "stdout",
     "output_type": "stream",
     "text": [
      "1\n",
      "2 3\n",
      "tets\n",
      "6 tets\n"
     ]
    }
   ],
   "source": [
    "a=int(input())\n",
    "listA=[2]\n",
    "b=0\n",
    "c=0\n",
    "while True:\n",
    "    try:\n",
    "        listA=list(map(int,input().split()))\n",
    "        b=listA[0]\n",
    "        c=listA[1]\n",
    "        break;\n",
    "    except:\n",
    "        break;\n",
    "s=input()\n",
    "print(\"{} {}\".format(str(a+b+c),s))"
   ]
  },
  {
   "cell_type": "code",
   "execution_count": 34,
   "metadata": {},
   "outputs": [
    {
     "name": "stdout",
     "output_type": "stream",
     "text": [
      "1 1\n",
      "Odd\n"
     ]
    }
   ],
   "source": [
    "listA=list(map(int,input().split()))\n",
    "a=listA[0]\n",
    "b=listA[1]\n",
    "if(a*b%2==1):\n",
    "    print('Odd')\n",
    "else:\n",
    "    print('Even')"
   ]
  },
  {
   "cell_type": "code",
   "execution_count": 37,
   "metadata": {},
   "outputs": [
    {
     "name": "stdout",
     "output_type": "stream",
     "text": [
      "111\n",
      "3\n"
     ]
    }
   ],
   "source": [
    "s=list(input())\n",
    "A=0\n",
    "for i in range(3):\n",
    "   A+=int(s[i])\n",
    "print(A)"
   ]
  },
  {
   "cell_type": "code",
   "execution_count": 40,
   "metadata": {},
   "outputs": [
    {
     "name": "stdout",
     "output_type": "stream",
     "text": [
      "3\n",
      "64 128 1024\n",
      "6\n"
     ]
    }
   ],
   "source": [
    "import numpy as np\n",
    "N=input()\n",
    "listA=list(map(int,input().split()))\n",
    "A=np.array(listA)\n",
    "s=0\n",
    "count=-1\n",
    "while(s==0):\n",
    "    count=count+1\n",
    "    s=np.sum(A%2)\n",
    "    A=A/2\n",
    "print(count)\n",
    "    "
   ]
  },
  {
   "cell_type": "code",
   "execution_count": 51,
   "metadata": {},
   "outputs": [
    {
     "name": "stdout",
     "output_type": "stream",
     "text": [
      "30\n",
      "40\n",
      "50\n",
      "6000\n",
      "213\n"
     ]
    }
   ],
   "source": [
    "A=int(input())\n",
    "B=int(input())\n",
    "C=int(input())\n",
    "X=int(input())\n",
    "count=0\n",
    "for i in range(A+1):\n",
    "    for j in range(B+1):\n",
    "        for k in range(C+1):\n",
    "            if(i*500+j*100+k*50==X):\n",
    "                count=count+1\n",
    "print(count)"
   ]
  },
  {
   "cell_type": "code",
   "execution_count": 60,
   "metadata": {},
   "outputs": [
    {
     "name": "stdout",
     "output_type": "stream",
     "text": [
      "100 4 16\n",
      "4554\n"
     ]
    }
   ],
   "source": [
    "listA=list(map(int,input().split()))\n",
    "N=listA[0]\n",
    "A=listA[1]\n",
    "B=listA[2]\n",
    "count=0\n",
    "for i in range(N+1):\n",
    "    n=i\n",
    "    sum=0\n",
    "    while(n>0):\n",
    "        sum+=n%10\n",
    "        n=n//10\n",
    "    if((A<=sum)&(B>=sum)):\n",
    "        count+=i\n",
    "print(count)"
   ]
  },
  {
   "cell_type": "code",
   "execution_count": 6,
   "metadata": {},
   "outputs": [
    {
     "name": "stdout",
     "output_type": "stream",
     "text": [
      "4\n",
      "20 18 2 18\n",
      "[20 18 18  2]\n",
      "18\n"
     ]
    }
   ],
   "source": [
    "import numpy as np\n",
    "N=int(input())\n",
    "listA=list(map(int,input().split()))\n",
    "A=np.array(listA)\n",
    "A=np.sort(A)[::-1]\n",
    "bob=0\n",
    "alice=0\n",
    "for i in range(N):\n",
    "    if(i%2==0):\n",
    "        alice+=A[i]\n",
    "    else:\n",
    "        bob+=A[i]\n",
    "print(alice-bob)"
   ]
  },
  {
   "cell_type": "markdown",
   "metadata": {},
   "source": [
    "import numpy as np\n",
    "N=int(input())\n",
    "listA=list[N]\n",
    "for i in range(N):\n",
    "    listA[i]=int(input())\n",
    "A=np.array(listA)\n",
    "A=np.sort(A)\n",
    "count=0\n",
    "for i in range(N):\n",
    "    if(A[i]<A[i+1]):\n",
    "       count+=1\n",
    "print(count)"
   ]
  },
  {
   "cell_type": "code",
   "execution_count": 10,
   "metadata": {},
   "outputs": [
    {
     "name": "stdout",
     "output_type": "stream",
     "text": [
      "7\n",
      "50\n",
      "30\n",
      "50\n",
      "100\n",
      "50\n",
      "80\n",
      "30\n",
      "4\n"
     ]
    }
   ],
   "source": [
    "import numpy as np\n",
    "N=int(input()) \n",
    "listA=[0]*N\n",
    "for i in range(N):\n",
    "    listA[i]=int(input()) \n",
    "A=np.array(listA) \n",
    "A=np.sort(A) \n",
    "count=1\n",
    "for i in range(N-1):\n",
    "    if(A[i]<A[i+1]):\n",
    "        count+=1\n",
    "print(count)"
   ]
  },
  {
   "cell_type": "code",
   "execution_count": 16,
   "metadata": {},
   "outputs": [
    {
     "name": "stdout",
     "output_type": "stream",
     "text": [
      "9 45000\n",
      "4 0 5\n"
     ]
    }
   ],
   "source": [
    "listA=list(map(int,input().split()))\n",
    "N=listA[0]\n",
    "Y=listA[1]/1000\n",
    "a=0\n",
    "b=0\n",
    "c=0\n",
    "for i in range(N+1):\n",
    "    for k in range(N+1):\n",
    "        if(i+k<=N):\n",
    "            if(i*10+k*5+(N-i-k)*1==Y):\n",
    "                a=i\n",
    "                b=k\n",
    "                c=N-i-k\n",
    "    if(a==b&b==c&c==0):\n",
    "        a=-1\n",
    "        b=-1\n",
    "        c=-1\n",
    "                \n",
    "print(\"{} {} {}\".format(a,b,c))"
   ]
  },
  {
   "cell_type": "code",
   "execution_count": null,
   "metadata": {
    "collapsed": true
   },
   "outputs": [],
   "source": [
    "s=str(input())\n",
    "dreamer,eraser erase\n",
    "dream        dreamer erase,eraser\n",
    "eraser       eraser\n",
    "\n",
    "\n"
   ]
  }
 ],
 "metadata": {
  "kernelspec": {
   "display_name": "Python 3",
   "language": "python",
   "name": "python3"
  },
  "language_info": {
   "codemirror_mode": {
    "name": "ipython",
    "version": 3
   },
   "file_extension": ".py",
   "mimetype": "text/x-python",
   "name": "python",
   "nbconvert_exporter": "python",
   "pygments_lexer": "ipython3",
   "version": "3.6.1"
  }
 },
 "nbformat": 4,
 "nbformat_minor": 2
}
