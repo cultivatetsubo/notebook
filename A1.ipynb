{
 "cells": [
  {
   "cell_type": "code",
   "execution_count": 10,
   "metadata": {},
   "outputs": [
    {
     "name": "stdout",
     "output_type": "stream",
     "text": [
      "Variable         Type         Data/Info\n",
      "---------------------------------------\n",
      "DataFrame        type         <class 'pandas.core.frame.DataFrame'>\n",
      "Series           type         <class 'pandas.core.series.Series'>\n",
      "Vgs              DataFrame        V_GS1  V_DS1  V_GS2  <...>aN     NaN    1.6  20.380\n",
      "Vgs1             ndarray      14x2: 28 elems, type `float64`, 224 bytes\n",
      "Vgs2             ndarray      16x2: 32 elems, type `float64`, 256 bytes\n",
      "Vgs3             ndarray      16x2: 32 elems, type `float64`, 256 bytes\n",
      "Vgs4             ndarray      17x2: 34 elems, type `float64`, 272 bytes\n",
      "cmath            module       <module 'cmath' (built-in)>\n",
      "coodinate_sort   function     <function coodinate_sort at 0x000001F3E3642C80>\n",
      "file1            str          A1-X.eps\n",
      "math             module       <module 'math' (built-in)>\n",
      "np               module       <module 'numpy' from 'C:\\<...>ges\\\\numpy\\\\__init__.py'>\n",
      "pd               module       <module 'pandas' from 'C:<...>es\\\\pandas\\\\__init__.py'>\n",
      "phase_clean      function     <function phase_clean at 0x000001F3E3642048>\n",
      "plt              module       <module 'matplotlib.pylab<...>s\\\\matplotlib\\\\pylab.py'>\n",
      "scipy            module       <module 'scipy' from 'C:\\<...>ges\\\\scipy\\\\__init__.py'>\n",
      "sns              module       <module 'seaborn' from 'C<...>s\\\\seaborn\\\\__init__.py'>\n"
     ]
    }
   ],
   "source": [
    "import numpy as np\n",
    "from pandas import Series,DataFrame\n",
    "import pandas as pd\n",
    "import scipy.optimize\n",
    "import matplotlib.pylab as plt\n",
    "import seaborn as sns\n",
    "import cmath\n",
    "import math\n",
    "%matplotlib inline\n",
    "def coodinate_sort(x,y,a,b):\n",
    "    #グラフ上のある点の片方の座標を指定したときもう片方の座標がいくつか調べる関数\n",
    "    print('指定されたx座標に近いプロット:x;{0},y;{1}'.format(a[(0.95*x<a)&(a<1.1*x)],b[(0.95*x<a)&(a<1.1*x)]))\n",
    "    print('指定されたy座標に近いプロット:x;{0},y;{1}'.format(a[(0.95*y<b)&(b<1.05*y)],b[(0.95*y<b)&(b<1.05*y)]))\n",
    "def phase_clean(phase):\n",
    "    #位相のデータが途中で360度ずれるのを補正する関数\n",
    "    c1=phase[phase<0]\n",
    "    c2=phase[phase>0]-360\n",
    "    return np.concatenate([c1,c2 ], axis=0)\n",
    "Vgs1=np.loadtxt('Vgs1.txt')\n",
    "Vgs2=np.loadtxt('Vgs2.txt')\n",
    "Vgs3=np.loadtxt('Vgs3.txt')\n",
    "Vgs4=np.loadtxt('Vgs4.txt')\n",
    "%whos"
   ]
  },
  {
   "cell_type": "code",
   "execution_count": 2,
   "metadata": {},
   "outputs": [
    {
     "name": "stderr",
     "output_type": "stream",
     "text": [
      "No handles with labels found to put in legend.\n"
     ]
    },
    {
     "data": {
      "image/png": "[encoded data removed]",
      "text/plain": [
       "<matplotlib.figure.Figure at 0x1f3dfd7a198>"
      ]
     },
     "metadata": {},
     "output_type": "display_data"
    }
   ],
   "source": [
    "#plt.plot(x1,y1,'.',label=\"current\",color=\"blue\")\n",
    "#plt.plot(x2,y2,'-',label=\"current-theorical value\",color=\"blue\")\n",
    "#plt.xscale('log')\n",
    "#plt.xlabel(\"voltage[V]\")\n",
    "#plt.ylabel(\"current[mA]\")\n",
    "#plt.axhline(37,ls='-',label=\"40-3[dB]\")\n",
    "#plt.axhline(17,ls='-',label=\"20-3[dB]\",color='red')\n",
    "#plt.axvline(x=63095,ls='--',color='red')\n",
    "#plt.axvline(x=8912,ls='--')\n",
    "plt.legend()\n",
    "file1=\"A1-X.eps\"\n",
    "plt.savefig(file1)\n",
    "plt.show()"
   ]
  }
 ],
 "metadata": {
  "kernelspec": {
   "display_name": "Python 3",
   "language": "python",
   "name": "python3"
  },
  "language_info": {
   "codemirror_mode": {
    "name": "ipython",
    "version": 3
   },
   "file_extension": ".py",
   "mimetype": "text/x-python",
   "name": "python",
   "nbconvert_exporter": "python",
   "pygments_lexer": "ipython3",
   "version": "3.6.1"
  }
 },
 "nbformat": 4,
 "nbformat_minor": 2
}
