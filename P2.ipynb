{
 "cells": [
  {
   "cell_type": "code",
   "execution_count": 57,
   "metadata": {
    "scrolled": true
   },
   "outputs": [
    {
     "data": {
      "image/png": "[encoded data removed]",
      "text/plain": [
       "<matplotlib.figure.Figure at 0x2644f20e5f8>"
      ]
     },
     "metadata": {},
     "output_type": "display_data"
    }
   ],
   "source": [
    "import numpy as np\n",
    "from pandas import Series,DataFrame\n",
    "import pandas as pd\n",
    "import scipy.optimize\n",
    "import matplotlib.pylab as plt\n",
    "import seaborn as sns\n",
    "%matplotlib inline\n",
    "test1=np.loadtxt('P2_1.txt').T\n",
    "test2=np.loadtxt(\"P2_2.txt\").T\n",
    "test3=np.loadtxt('P2_3.txt').T\n",
    "\n",
    "f1=np.array(test1[0])\n",
    "f2=np.array(test2[0])\n",
    "f3=np.array(test3[0])\n",
    "v1=np.array(test1[1])\n",
    "v2=np.array(test2[1])\n",
    "v3=np.array(test3[1])\n",
    "voltage1=np.array(test1[2])*0.001\n",
    "voltage2=np.array(test2[2])*0.001\n",
    "voltage3=np.array(test3[2])*0.001\n",
    "R=10\n",
    "current1=v1/R\n",
    "current2=v2/R\n",
    "current3=v3/R\n",
    "phasediff1=(test1[0]*test1[3]*np.pi*2*0.000001)\n",
    "phasediff2=(test2[0]*test2[3]*np.pi*2*0.000001)\n",
    "phasediff3=(test3[0]*test3[3]*np.pi*2*0.000001)\n",
    "plt.plot(test1[0],phasediff1,'o',label=\"16-1\",color=\"blue\")\n",
    "plt.plot(test2[0],phasediff2,'o',label=\"16-2\",color=\"red\")\n",
    "plt.plot(test3[0],phasediff3,'o',label=\"16-3\",color=\"green\")\n",
    "plt.xscale('log')\n",
    "plt.xlabel(\"frequency-logscale[Hz]\")\n",
    "plt.ylabel(\"phasediff[rad]\")\n",
    "plt.legend()\n",
    "file1=\"p2-1.eps\"\n",
    "plt.savefig(file1)\n",
    "plt.show()"
   ]
  },
  {
   "cell_type": "code",
   "execution_count": null,
   "metadata": {},
   "outputs": [
    {
     "data": {
      "image/png": "[encoded data removed]",
      "text/plain": [
       "<matplotlib.figure.Figure at 0x2644ef58208>"
      ]
     },
     "metadata": {},
     "output_type": "display_data"
    }
   ],
   "source": [
    "P16_1=np.array([[ 10000,5000,2000,1000,500,200,100],[ 301.80872795,302.23637218,306.6490566,306.6490566,303.67104646,340.98924731,339.08693631],[  2.17573562e-07,2.14947326e-07,2.14139253e-07,2.14139253e-07,\n",
    "2.15250353e-07,2.16058426e-07,2.17270535e-07],[1.52286738,3.07858551,7.61433688,15.22867377,30.59727409,67.86691569,135.73383139]])\n",
    "P16_2=np.array([[100,200,    500,   1000,   2000,   3000,   5000,  10000],[ 185.79909961,  186.11330327,  186.11330327,  186.11330327,  186.11330327,\n",
    " 186.65217391,  185.54119639,  179.56253413],[ 0.03304952,  0.03304952,  0.03304952,  0.03304952,  0.03304952,  0.03308916,\n",
    " 0.03291078,  0.03291078],[ 56.21840174,  28.15673616,  11.26269446,   5.63134723,   2.81567362,\n",
    "  1.8802955,    1.12754063,   0.54560404]])\n",
    "P16_3=np.array([[   100,    200,    500,   1000,   2000,   5000,  10000,  20000],[ 5590.79533404,  5588.4248463,   5552.88997659,  5635.01496366,  5440.61762814,\n",
    " 5313.10315248,  5472.04347826,  5385.86956522],[  4.76257820e-08,   4.76459839e-08,   4.74641675e-08,   4.72520484e-08,\n",
    "  4.71005348e-08,   4.71005348e-08,   4.64641776e-08,   4.64641776e-08],[ 0.0266266,   0.0532532,   0.13178165,  0.266266,    0.512512,    1.25125,\n",
    " 2.54254,     5.005]])\n",
    "f1=P16_1[0]\n",
    "f2=P16_2[0]\n",
    "f3=P16_3[0]\n",
    "R1=P16_1[1]\n",
    "R2=P16_2[1]\n",
    "R3=P16_3[1]\n",
    "C1=P16_1[2]\n",
    "L2=P16_2[2]\n",
    "C3=P16_3[2]\n",
    "Q1=P16_1[3]\n",
    "Q2=P16_2[3]\n",
    "Q3=P16_3[3]\n",
    "txt3=np.loadtxt('P2_3txt.txt').T\n",
    "RB=txt3[1]\n",
    "plt.xscale('log')\n",
    "plt.plot(f3,C3*R3*f3*np.pi*2,'o',label='Q3')\n",
    "plt.plot(f3,f3*np.pi*2*0.1*0.000001*RB,'-',label='Q3-theorical curve')\n",
    "plt.xlabel(\"frequency-logscale[Hz]\")\n",
    "plt.ylabel(\"Q\")\n",
    "plt.legend()\n",
    "file1=\"p2-2.eps\"\n",
    "plt.savefig(file1)\n",
    "plt.show()"
   ]
  },
  {
   "cell_type": "code",
   "execution_count": null,
   "metadata": {
    "collapsed": true
   },
   "outputs": [],
   "source": [
    "plt.xscale('log')\n",
    "plt.plot(f1,R1,'o',label='arg(Z1)')\n",
    "#plt.plot(f1,np.angle(zt1),'-',label='arg(Z1)-theorical curve')\n",
    "plt.plot(f2,R2,'o',label='arg(Z2)')\n",
    "#plt.plot(f2,np.angle(zt2),'-',label='arg(Z2)-theorical curve')\n",
    "plt.plot(f3,R3,'o',label='arg(Z3)')\n",
    "#plt.plot(f3,np.angle(zt3),'-',label='arg(Z3)-theorical curve')\n",
    "plt.xlabel(\"frequency-logscale[Hz]\")\n",
    "plt.ylabel(\"resistance[$\\Omega$]\")\n",
    "plt.legend()\n",
    "file1=\"p2-5.eps\"\n",
    "plt.savefig(file1)\n",
    "plt.show()"
   ]
  },
  {
   "cell_type": "code",
   "execution_count": null,
   "metadata": {},
   "outputs": [],
   "source": [
    "Z1=R1+1/f1/2/np.pi/C1/1.0j\n",
    "Z2=R2+f2*2*np.pi*L2*1.0j\n",
    "Z3=1/(1/R3+f3*2*np.pi*C3*1.0j)\n",
    "zt1=300+1/f1/2/np.pi/0.22/0.000001/1.0j\n",
    "zt2=250+f2*2*np.pi*0.033*1.0j\n",
    "zt3=1/(1/5600+f3*2*np.pi*0.047*0.000001*1.0j)\n",
    "argz1=np.angle(Z1)\n",
    "argz2=np.angle(Z2)\n",
    "argz3=np.angle(Z3)\n",
    "lz1l=abs(Z1)\n",
    "lz2l=abs(Z2)\n",
    "lz3l=abs(Z3)\n",
    "plt.xscale('log')\n",
    "plt.plot(f1,argz1,'o',label='arg(Z1)')\n",
    "plt.plot(f1,np.angle(zt1),'-',label='arg(Z1)-theorical curve')\n",
    "plt.plot(f2,argz2,'o',label='arg(Z2)')\n",
    "plt.plot(f2,np.angle(zt2),'-',label='arg(Z2)-theorical curve')\n",
    "plt.plot(f3,argz3,'o',label='arg(Z3)')\n",
    "plt.plot(f3,np.angle(zt3),'-',label='arg(Z3)-theorical curve')\n",
    "plt.xlabel(\"frequency-logscale[Hz]\")\n",
    "plt.ylabel(\"arg(Z)[rad]\")\n",
    "plt.legend()\n",
    "file1=\"p2-3.eps\"\n",
    "plt.savefig(file1)\n",
    "plt.show()"
   ]
  },
  {
   "cell_type": "code",
   "execution_count": null,
   "metadata": {},
   "outputs": [],
   "source": [
    "plt.xscale('log')\n",
    "plt.yscale('log')\n",
    "plt.plot(f1,lz1l,'o',label='|Z1|')\n",
    "plt.plot(f1,abs(zt1),'-',label='arg(Z1)-theorical curve')\n",
    "plt.plot(f2,lz2l,'o',label='|Z2|')\n",
    "plt.plot(f2,abs(zt2),'-',label='arg(Z2)-theorical curve')\n",
    "plt.plot(f3,lz3l,'o',label='|Z3|')\n",
    "plt.plot(f3,abs(zt3),'-',label='arg(Z3)-theorical curve')\n",
    "plt.xlabel(\"frequency-logscale[Hz]\")\n",
    "plt.ylabel(\"|Z|\")\n",
    "plt.legend()\n",
    "file1=\"p2-4.eps\"\n",
    "plt.savefig(file1)\n",
    "plt.show()"
   ]
  }
 ],
 "metadata": {
  "kernelspec": {
   "display_name": "Python 3",
   "language": "python",
   "name": "python3"
  },
  "language_info": {
   "codemirror_mode": {
    "name": "ipython",
    "version": 3
   },
   "file_extension": ".py",
   "mimetype": "text/x-python",
   "name": "python",
   "nbconvert_exporter": "python",
   "pygments_lexer": "ipython3",
   "version": "3.6.1"
  }
 },
 "nbformat": 4,
 "nbformat_minor": 2
}
