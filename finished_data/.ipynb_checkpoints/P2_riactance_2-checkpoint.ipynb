{
 "cells": [
  {
   "cell_type": "code",
   "execution_count": 2,
   "metadata": {},
   "outputs": [
    {
     "name": "stdout",
     "output_type": "stream",
     "text": [
      "[-0.13823008 -0.87964594 -1.60849544]\n",
      "tan(argZ)=\n",
      "[ -0.13911727  -1.20879235  26.51325629]\n",
      "|Z|=\n",
      "[ 0.51        0.34070796  0.0445283 ]\n"
     ]
    }
   ],
   "source": [
    "import numpy as np\n",
    "from pandas import Series,DataFrame\n",
    "import pandas as pd\n",
    "import scipy.optimize\n",
    "import matplotlib.pylab as plt\n",
    "import seaborn as sns\n",
    "%matplotlib inline\n",
    "txt=np.loadtxt('P2_2.txt')\n",
    "Ttxt=txt.T\n",
    "f=np.array(Ttxt[0])\n",
    "v2=np.array(Ttxt[1])\n",
    "voltage=np.array(Ttxt[2])\n",
    "voltage=voltage*0.001\n",
    "R=10\n",
    "current=v2/R\n",
    "phasediff=(Ttxt[0]*Ttxt[3]*np.pi*2*0.000001)\n",
    "print(phasediff)\n",
    "print(\"tan(argZ)=\")\n",
    "print(np.tan(phasediff))\n",
    "print(\"|Z|=\")\n",
    "print(voltage/current)"
   ]
  }
 ],
 "metadata": {
  "kernelspec": {
   "display_name": "Python 3",
   "language": "python",
   "name": "python3"
  },
  "language_info": {
   "codemirror_mode": {
    "name": "ipython",
    "version": 3
   },
   "file_extension": ".py",
   "mimetype": "text/x-python",
   "name": "python",
   "nbconvert_exporter": "python",
   "pygments_lexer": "ipython3",
   "version": "3.6.4"
  }
 },
 "nbformat": 4,
 "nbformat_minor": 2
}
