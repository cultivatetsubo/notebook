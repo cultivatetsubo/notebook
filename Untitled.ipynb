{
 "cells": [
  {
   "cell_type": "code",
   "execution_count": 21,
   "metadata": {},
   "outputs": [
    {
     "name": "stderr",
     "output_type": "stream",
     "text": [
      "C:\\Users\\denjo\\Anaconda3\\lib\\site-packages\\ipykernel_launcher.py:8: RuntimeWarning: divide by zero encountered in log\n",
      "  \n"
     ]
    },
    {
     "name": "stdout",
     "output_type": "stream",
     "text": [
      "-22.889260137421996 -8.954232508060667 -2.9887812856848197 16.074107097120635 26.798961233887017 29.955360493946124 34.31138532310961 34.95698818708078\n"
     ]
    },
    {
     "data": {
      "text/plain": [
       "[<matplotlib.lines.Line2D at 0x2151eea34a8>]"
      ]
     },
     "execution_count": 21,
     "metadata": {},
     "output_type": "execute_result"
    },
    {
     "data": {
      "image/png": "[encoded data removed]",
      "text/plain": [
       "<matplotlib.figure.Figure at 0x2151eea3518>"
      ]
     },
     "metadata": {},
     "output_type": "display_data"
    }
   ],
   "source": [
    "import numpy as np\n",
    "Rd=np.array(range(10000001)).T\n",
    "Rs=50\n",
    "gm=0.01\n",
    "r=5000\n",
    "gmb=0.001\n",
    "A=((gm+gmb)*r+1)*Rd/(r+Rs*(gm+gmb)*r+Rs+Rd)\n",
    "A=20*np.log(A)/np.log(10)\n",
    "print('{} {} {} {} {} {} {} {}'.format(A[10],A[50],A[100],A[1000],A[5000],A[10000],A[100000],A[10000000]))\n",
    "plt.xscale('log')\n",
    "plt.plot(Rd,A)"
   ]
  },
  {
   "cell_type": "code",
   "execution_count": 2,
   "metadata": {},
   "outputs": [
    {
     "name": "stdout",
     "output_type": "stream",
     "text": [
      "Ri=90.17857142857143,Ro=49.68152866242038,Ri=178.57142857142858,Ro=3046.875,Ri=17946.428571428572,Ro=7739.630879142687\n"
     ]
    },
    {
     "name": "stderr",
     "output_type": "stream",
     "text": [
      "C:\\Users\\denjo\\Anaconda3\\lib\\site-packages\\ipykernel_launcher.py:8: RuntimeWarning: divide by zero encountered in true_divide\n",
      "  \n"
     ]
    }
   ],
   "source": [
    "import numpy as np\n",
    "Rd=np.array(range(10000001)).T\n",
    "Rs=50\n",
    "gm=0.01\n",
    "r=5000\n",
    "gmb=0.001\n",
    "Ri=(r+Rd)/((gm+gmb)*r+1)\n",
    "Ro=1/(1/Rd+1/(r+Rs*(1+(gm+gmb)*r)))\n",
    "print(\"Ri={},Ro={},Ri={},Ro={},Ri={},Ro={}\".format(Ri[50],Ro[50],Ri[5000],Ro[5000],Ri[1000000],Ro[1000000]))"
   ]
  },
  {
   "cell_type": "code",
   "execution_count": 11,
   "metadata": {},
   "outputs": [
    {
     "name": "stdout",
     "output_type": "stream",
     "text": [
      "Variable   Type       Data/Info\n",
      "-------------------------------\n",
      "A          ndarray    1000001: 1000001 elems, type `float64`, 8000008 bytes (7.629402160644531 Mb)\n",
      "Rd         ndarray    1000001: 1000001 elems, type `int32`, 4000004 bytes (3.8147010803222656 Mb)\n",
      "gm         float      0.01\n",
      "gmb        float      0.001\n",
      "math       module     <module 'math' (built-in)>\n",
      "np         module     <module 'numpy' from 'C:\\<...>ges\\\\numpy\\\\__init__.py'>\n",
      "plt        module     <module 'matplotlib.pylab<...>s\\\\matplotlib\\\\pylab.py'>\n",
      "r          int        5000\n",
      "0.49504950495049505 25.0 49.75124378109453 49.75124353357565\n"
     ]
    },
    {
     "data": {
      "text/plain": [
       "[<matplotlib.lines.Line2D at 0x21514b06ba8>]"
      ]
     },
     "execution_count": 11,
     "metadata": {},
     "output_type": "execute_result"
    },
    {
     "data": {
      "image/png": "[encoded data removed]",
      "text/plain": [
       "<matplotlib.figure.Figure at 0x21514b19e48>"
      ]
     },
     "metadata": {},
     "output_type": "display_data"
    }
   ],
   "source": [
    "import math\n",
    "import matplotlib.pylab as plt\n",
    "%matplotlib inline\n",
    "import numpy as np\n",
    "Rd=np.array(range(1000001)).T\n",
    "A=0.01*Rd*5000/(Rd+5000)\n",
    "%whos\n",
    "print('{} {} {} {}'.format(A[50],A[5000],A[1000000],A[999999]))\n",
    "plt.xscale('log')\n",
    "plt.plot(Rd,A)"
   ]
  },
  {
   "cell_type": "code",
   "execution_count": null,
   "metadata": {
    "collapsed": true
   },
   "outputs": [],
   "source": []
  }
 ],
 "metadata": {
  "kernelspec": {
   "display_name": "Python 3",
   "language": "python",
   "name": "python3"
  },
  "language_info": {
   "codemirror_mode": {
    "name": "ipython",
    "version": 3
   },
   "file_extension": ".py",
   "mimetype": "text/x-python",
   "name": "python",
   "nbconvert_exporter": "python",
   "pygments_lexer": "ipython3",
   "version": "3.6.1"
  }
 },
 "nbformat": 4,
 "nbformat_minor": 2
}
