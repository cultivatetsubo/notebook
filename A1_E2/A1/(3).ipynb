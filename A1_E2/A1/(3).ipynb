{
 "cells": [
  {
   "cell_type": "code",
   "execution_count": 2,
   "metadata": {
    "collapsed": true
   },
   "outputs": [],
   "source": [
    "import numpy as np\n",
    "import pandas as pd\n",
    "from mpl_toolkits.mplot3d import Axes3D\n",
    "import matplotlib.pyplot as plt\n",
    "%matplotlib inline"
   ]
  },
  {
   "cell_type": "code",
   "execution_count": 3,
   "metadata": {
    "collapsed": true
   },
   "outputs": [],
   "source": [
    "df = pd.read_csv(\"(3).csv\")\n",
    "V_GS = [np.sort(np.array(df.iloc[:,2*x].dropna())) for x in range(4)]\n",
    "V_DS = [np.sort(np.array(df.iloc[:,2*x+1].dropna())) for x in range(4)]"
   ]
  },
  {
   "cell_type": "code",
   "execution_count": 16,
   "metadata": {},
   "outputs": [],
   "source": [
    "R_L = [1.985, 1.985, 9.95, 9.95]\n",
    "V0 = [20.4,15,15,20.4]\n",
    "V_ds = np.array([0,20])\n",
    "I_D = [y/x - V_DS[i]/x for x, y, i in zip(R_L,V0, range(4))]"
   ]
  },
  {
   "cell_type": "code",
   "execution_count": 17,
   "metadata": {},
   "outputs": [
    {
     "data": {
      "image/png": "[encoded data removed]",
      "text/plain": [
       "<matplotlib.figure.Figure at 0x10c57b5c0>"
      ]
     },
     "metadata": {},
     "output_type": "display_data"
    }
   ],
   "source": [
    "for i in range(4):\n",
    "    plt.scatter(V_DS[i], I_D[i])"
   ]
  },
  {
   "cell_type": "code",
   "execution_count": 11,
   "metadata": {},
   "outputs": [
    {
     "data": {
      "image/png": "[encoded data removed]",
      "text/plain": [
       "<matplotlib.figure.Figure at 0x10c46e550>"
      ]
     },
     "metadata": {},
     "output_type": "display_data"
    }
   ],
   "source": [
    "for i in range(4):    \n",
    "    plt.scatter(V_GS[i], V_DS[i])\n",
    "    #plt.plot(V_DS[i], V_GS[i], label=\"V_GS={:.1f}\".format(-0.2*i))\n",
    "plt.xlabel(\"V_GS [V]\")\n",
    "plt.ylabel(\"V_DS [V]\")\n",
    "plt.grid(True)\n",
    "plt.legend()\n",
    "plt.show()"
   ]
  },
  {
   "cell_type": "code",
   "execution_count": 4,
   "metadata": {},
   "outputs": [
    {
     "data": {
      "text/html": [
       "<div>\n",
       "<style>\n",
       "    .dataframe thead tr:only-child th {\n",
       "        text-align: right;\n",
       "    }\n",
       "\n",
       "    .dataframe thead th {\n",
       "        text-align: left;\n",
       "    }\n",
       "\n",
       "    .dataframe tbody tr th {\n",
       "        vertical-align: top;\n",
       "    }\n",
       "</style>\n",
       "<table border=\"1\" class=\"dataframe\">\n",
       "  <thead>\n",
       "    <tr style=\"text-align: right;\">\n",
       "      <th></th>\n",
       "      <th>V_GS1</th>\n",
       "      <th>V_DS1</th>\n",
       "      <th>V_GS2</th>\n",
       "      <th>V_DS2</th>\n",
       "      <th>V_GS3</th>\n",
       "      <th>V_DS3</th>\n",
       "      <th>V_GS4</th>\n",
       "      <th>V_DS4</th>\n",
       "    </tr>\n",
       "  </thead>\n",
       "  <tbody>\n",
       "    <tr>\n",
       "      <th>0</th>\n",
       "      <td>0.0</td>\n",
       "      <td>16.38</td>\n",
       "      <td>0.0</td>\n",
       "      <td>11.00</td>\n",
       "      <td>0.0</td>\n",
       "      <td>0.866</td>\n",
       "      <td>0.0</td>\n",
       "      <td>1.710</td>\n",
       "    </tr>\n",
       "    <tr>\n",
       "      <th>1</th>\n",
       "      <td>0.1</td>\n",
       "      <td>16.89</td>\n",
       "      <td>0.1</td>\n",
       "      <td>11.50</td>\n",
       "      <td>0.1</td>\n",
       "      <td>1.007</td>\n",
       "      <td>0.1</td>\n",
       "      <td>3.239</td>\n",
       "    </tr>\n",
       "    <tr>\n",
       "      <th>2</th>\n",
       "      <td>0.2</td>\n",
       "      <td>17.34</td>\n",
       "      <td>0.2</td>\n",
       "      <td>12.01</td>\n",
       "      <td>0.2</td>\n",
       "      <td>1.270</td>\n",
       "      <td>0.2</td>\n",
       "      <td>5.510</td>\n",
       "    </tr>\n",
       "    <tr>\n",
       "      <th>3</th>\n",
       "      <td>0.3</td>\n",
       "      <td>17.80</td>\n",
       "      <td>0.3</td>\n",
       "      <td>12.42</td>\n",
       "      <td>0.3</td>\n",
       "      <td>2.464</td>\n",
       "      <td>0.3</td>\n",
       "      <td>7.480</td>\n",
       "    </tr>\n",
       "    <tr>\n",
       "      <th>4</th>\n",
       "      <td>0.4</td>\n",
       "      <td>18.19</td>\n",
       "      <td>0.4</td>\n",
       "      <td>12.86</td>\n",
       "      <td>0.4</td>\n",
       "      <td>4.430</td>\n",
       "      <td>0.4</td>\n",
       "      <td>9.350</td>\n",
       "    </tr>\n",
       "    <tr>\n",
       "      <th>5</th>\n",
       "      <td>0.5</td>\n",
       "      <td>18.60</td>\n",
       "      <td>0.5</td>\n",
       "      <td>13.21</td>\n",
       "      <td>0.5</td>\n",
       "      <td>5.830</td>\n",
       "      <td>0.5</td>\n",
       "      <td>11.390</td>\n",
       "    </tr>\n",
       "    <tr>\n",
       "      <th>6</th>\n",
       "      <td>0.6</td>\n",
       "      <td>18.98</td>\n",
       "      <td>0.6</td>\n",
       "      <td>13.53</td>\n",
       "      <td>0.6</td>\n",
       "      <td>7.700</td>\n",
       "      <td>0.6</td>\n",
       "      <td>13.010</td>\n",
       "    </tr>\n",
       "    <tr>\n",
       "      <th>7</th>\n",
       "      <td>0.7</td>\n",
       "      <td>19.27</td>\n",
       "      <td>0.7</td>\n",
       "      <td>13.88</td>\n",
       "      <td>0.7</td>\n",
       "      <td>9.380</td>\n",
       "      <td>0.7</td>\n",
       "      <td>14.730</td>\n",
       "    </tr>\n",
       "    <tr>\n",
       "      <th>8</th>\n",
       "      <td>0.8</td>\n",
       "      <td>19.57</td>\n",
       "      <td>0.8</td>\n",
       "      <td>14.18</td>\n",
       "      <td>0.8</td>\n",
       "      <td>10.680</td>\n",
       "      <td>0.8</td>\n",
       "      <td>16.070</td>\n",
       "    </tr>\n",
       "    <tr>\n",
       "      <th>9</th>\n",
       "      <td>0.9</td>\n",
       "      <td>19.80</td>\n",
       "      <td>0.9</td>\n",
       "      <td>14.41</td>\n",
       "      <td>0.9</td>\n",
       "      <td>12.010</td>\n",
       "      <td>0.9</td>\n",
       "      <td>17.390</td>\n",
       "    </tr>\n",
       "    <tr>\n",
       "      <th>10</th>\n",
       "      <td>1.0</td>\n",
       "      <td>20.00</td>\n",
       "      <td>1.0</td>\n",
       "      <td>14.60</td>\n",
       "      <td>1.0</td>\n",
       "      <td>12.980</td>\n",
       "      <td>1.0</td>\n",
       "      <td>18.350</td>\n",
       "    </tr>\n",
       "    <tr>\n",
       "      <th>11</th>\n",
       "      <td>1.1</td>\n",
       "      <td>20.18</td>\n",
       "      <td>1.1</td>\n",
       "      <td>14.80</td>\n",
       "      <td>1.1</td>\n",
       "      <td>13.870</td>\n",
       "      <td>1.1</td>\n",
       "      <td>19.250</td>\n",
       "    </tr>\n",
       "    <tr>\n",
       "      <th>12</th>\n",
       "      <td>1.3</td>\n",
       "      <td>20.36</td>\n",
       "      <td>1.2</td>\n",
       "      <td>14.91</td>\n",
       "      <td>1.2</td>\n",
       "      <td>14.440</td>\n",
       "      <td>1.2</td>\n",
       "      <td>19.820</td>\n",
       "    </tr>\n",
       "    <tr>\n",
       "      <th>13</th>\n",
       "      <td>1.5</td>\n",
       "      <td>20.40</td>\n",
       "      <td>1.3</td>\n",
       "      <td>14.97</td>\n",
       "      <td>1.3</td>\n",
       "      <td>14.830</td>\n",
       "      <td>1.3</td>\n",
       "      <td>20.230</td>\n",
       "    </tr>\n",
       "    <tr>\n",
       "      <th>14</th>\n",
       "      <td>NaN</td>\n",
       "      <td>NaN</td>\n",
       "      <td>1.4</td>\n",
       "      <td>15.00</td>\n",
       "      <td>1.4</td>\n",
       "      <td>14.970</td>\n",
       "      <td>1.4</td>\n",
       "      <td>20.360</td>\n",
       "    </tr>\n",
       "    <tr>\n",
       "      <th>15</th>\n",
       "      <td>NaN</td>\n",
       "      <td>NaN</td>\n",
       "      <td>1.5</td>\n",
       "      <td>15.00</td>\n",
       "      <td>1.5</td>\n",
       "      <td>14.990</td>\n",
       "      <td>1.5</td>\n",
       "      <td>20.380</td>\n",
       "    </tr>\n",
       "    <tr>\n",
       "      <th>16</th>\n",
       "      <td>NaN</td>\n",
       "      <td>NaN</td>\n",
       "      <td>NaN</td>\n",
       "      <td>NaN</td>\n",
       "      <td>NaN</td>\n",
       "      <td>NaN</td>\n",
       "      <td>1.6</td>\n",
       "      <td>20.380</td>\n",
       "    </tr>\n",
       "  </tbody>\n",
       "</table>\n",
       "</div>"
      ],
      "text/plain": [
       "    V_GS1  V_DS1  V_GS2  V_DS2  V_GS3   V_DS3  V_GS4   V_DS4\n",
       "0     0.0  16.38    0.0  11.00    0.0   0.866    0.0   1.710\n",
       "1     0.1  16.89    0.1  11.50    0.1   1.007    0.1   3.239\n",
       "2     0.2  17.34    0.2  12.01    0.2   1.270    0.2   5.510\n",
       "3     0.3  17.80    0.3  12.42    0.3   2.464    0.3   7.480\n",
       "4     0.4  18.19    0.4  12.86    0.4   4.430    0.4   9.350\n",
       "5     0.5  18.60    0.5  13.21    0.5   5.830    0.5  11.390\n",
       "6     0.6  18.98    0.6  13.53    0.6   7.700    0.6  13.010\n",
       "7     0.7  19.27    0.7  13.88    0.7   9.380    0.7  14.730\n",
       "8     0.8  19.57    0.8  14.18    0.8  10.680    0.8  16.070\n",
       "9     0.9  19.80    0.9  14.41    0.9  12.010    0.9  17.390\n",
       "10    1.0  20.00    1.0  14.60    1.0  12.980    1.0  18.350\n",
       "11    1.1  20.18    1.1  14.80    1.1  13.870    1.1  19.250\n",
       "12    1.3  20.36    1.2  14.91    1.2  14.440    1.2  19.820\n",
       "13    1.5  20.40    1.3  14.97    1.3  14.830    1.3  20.230\n",
       "14    NaN    NaN    1.4  15.00    1.4  14.970    1.4  20.360\n",
       "15    NaN    NaN    1.5  15.00    1.5  14.990    1.5  20.380\n",
       "16    NaN    NaN    NaN    NaN    NaN     NaN    1.6  20.380"
      ]
     },
     "execution_count": 4,
     "metadata": {},
     "output_type": "execute_result"
    }
   ],
   "source": [
    "df"
   ]
  },
  {
   "cell_type": "code",
   "execution_count": 19,
   "metadata": {},
   "outputs": [
    {
     "data": {
      "text/plain": [
       "2.313624678663239"
      ]
     },
     "execution_count": 19,
     "metadata": {},
     "output_type": "execute_result"
    }
   ],
   "source": [
    "0.45/1.945/0.1"
   ]
  },
  {
   "cell_type": "code",
   "execution_count": null,
   "metadata": {
    "collapsed": true
   },
   "outputs": [],
   "source": []
  }
 ],
 "metadata": {
  "kernelspec": {
   "display_name": "Python 3",
   "language": "python",
   "name": "python3"
  },
  "language_info": {
   "codemirror_mode": {
    "name": "ipython",
    "version": 3
   },
   "file_extension": ".py",
   "mimetype": "text/x-python",
   "name": "python",
   "nbconvert_exporter": "python",
   "pygments_lexer": "ipython3",
   "version": "3.6.3"
  }
 },
 "nbformat": 4,
 "nbformat_minor": 2
}
