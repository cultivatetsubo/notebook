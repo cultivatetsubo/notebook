{
 "cells": [
  {
   "cell_type": "code",
   "execution_count": 2,
   "metadata": {},
   "outputs": [],
   "source": [
    "import numpy as np\n",
    "import pandas as pd\n",
    "import matplotlib.pyplot as plt\n",
    "import matplotlib.font_manager\n",
    "\n",
    "from matplotlib.font_manager import FontProperties\n",
    "fp = FontProperties(fname=r'C:\\Windows\\Fonts\\HGRGE.TTC', size=14)"
   ]
  },
  {
   "cell_type": "code",
   "execution_count": 3,
   "metadata": {},
   "outputs": [],
   "source": [
    "df1 = pd.read_csv(\"glow.csv\",sep=\"\\t\")"
   ]
  },
  {
   "cell_type": "code",
   "execution_count": 4,
   "metadata": {},
   "outputs": [
    {
     "data": {
      "text/html": [
       "<div>\n",
       "<style scoped>\n",
       "    .dataframe tbody tr th:only-of-type {\n",
       "        vertical-align: middle;\n",
       "    }\n",
       "\n",
       "    .dataframe tbody tr th {\n",
       "        vertical-align: top;\n",
       "    }\n",
       "\n",
       "    .dataframe thead th {\n",
       "        text-align: right;\n",
       "    }\n",
       "</style>\n",
       "<table border=\"1\" class=\"dataframe\">\n",
       "  <thead>\n",
       "    <tr style=\"text-align: right;\">\n",
       "      <th></th>\n",
       "      <th>kV</th>\n",
       "      <th>mA</th>\n",
       "      <th>Unnamed: 2</th>\n",
       "      <th>kV.1</th>\n",
       "      <th>mA.1</th>\n",
       "      <th>Unnamed: 5</th>\n",
       "      <th>kV.2</th>\n",
       "      <th>mA.2</th>\n",
       "      <th>Unnamed: 8</th>\n",
       "      <th>kV.3</th>\n",
       "      <th>mA.3</th>\n",
       "    </tr>\n",
       "  </thead>\n",
       "  <tbody>\n",
       "    <tr>\n",
       "      <th>0</th>\n",
       "      <td>2.10</td>\n",
       "      <td>2.45</td>\n",
       "      <td>NaN</td>\n",
       "      <td>1.41</td>\n",
       "      <td>2.70</td>\n",
       "      <td>NaN</td>\n",
       "      <td>0.85</td>\n",
       "      <td>2.95</td>\n",
       "      <td>NaN</td>\n",
       "      <td>0.85</td>\n",
       "      <td>2.97</td>\n",
       "    </tr>\n",
       "    <tr>\n",
       "      <th>1</th>\n",
       "      <td>2.00</td>\n",
       "      <td>2.25</td>\n",
       "      <td>NaN</td>\n",
       "      <td>1.43</td>\n",
       "      <td>2.25</td>\n",
       "      <td>NaN</td>\n",
       "      <td>0.82</td>\n",
       "      <td>2.65</td>\n",
       "      <td>NaN</td>\n",
       "      <td>0.76</td>\n",
       "      <td>2.35</td>\n",
       "    </tr>\n",
       "    <tr>\n",
       "      <th>2</th>\n",
       "      <td>1.96</td>\n",
       "      <td>2.80</td>\n",
       "      <td>NaN</td>\n",
       "      <td>1.51</td>\n",
       "      <td>1.75</td>\n",
       "      <td>NaN</td>\n",
       "      <td>0.75</td>\n",
       "      <td>2.05</td>\n",
       "      <td>NaN</td>\n",
       "      <td>0.67</td>\n",
       "      <td>1.70</td>\n",
       "    </tr>\n",
       "    <tr>\n",
       "      <th>3</th>\n",
       "      <td>1.90</td>\n",
       "      <td>2.95</td>\n",
       "      <td>NaN</td>\n",
       "      <td>1.44</td>\n",
       "      <td>2.95</td>\n",
       "      <td>NaN</td>\n",
       "      <td>0.70</td>\n",
       "      <td>1.45</td>\n",
       "      <td>NaN</td>\n",
       "      <td>0.60</td>\n",
       "      <td>1.15</td>\n",
       "    </tr>\n",
       "    <tr>\n",
       "      <th>4</th>\n",
       "      <td>NaN</td>\n",
       "      <td>NaN</td>\n",
       "      <td>NaN</td>\n",
       "      <td>NaN</td>\n",
       "      <td>NaN</td>\n",
       "      <td>NaN</td>\n",
       "      <td>0.65</td>\n",
       "      <td>1.05</td>\n",
       "      <td>NaN</td>\n",
       "      <td>0.53</td>\n",
       "      <td>0.60</td>\n",
       "    </tr>\n",
       "  </tbody>\n",
       "</table>\n",
       "</div>"
      ],
      "text/plain": [
       "     kV    mA  Unnamed: 2  kV.1  mA.1  Unnamed: 5  kV.2  mA.2  Unnamed: 8  \\\n",
       "0  2.10  2.45         NaN  1.41  2.70         NaN  0.85  2.95         NaN   \n",
       "1  2.00  2.25         NaN  1.43  2.25         NaN  0.82  2.65         NaN   \n",
       "2  1.96  2.80         NaN  1.51  1.75         NaN  0.75  2.05         NaN   \n",
       "3  1.90  2.95         NaN  1.44  2.95         NaN  0.70  1.45         NaN   \n",
       "4   NaN   NaN         NaN   NaN   NaN         NaN  0.65  1.05         NaN   \n",
       "\n",
       "   kV.3  mA.3  \n",
       "0  0.85  2.97  \n",
       "1  0.76  2.35  \n",
       "2  0.67  1.70  \n",
       "3  0.60  1.15  \n",
       "4  0.53  0.60  "
      ]
     },
     "execution_count": 4,
     "metadata": {},
     "output_type": "execute_result"
    }
   ],
   "source": [
    "df1"
   ]
  },
  {
   "cell_type": "code",
   "execution_count": 5,
   "metadata": {},
   "outputs": [],
   "source": [
    "v1 = np.array(df1.iloc[:,0])\n",
    "i1 = np.array(df1.iloc[:,1])\n",
    "v2 = np.array(df1.iloc[:,3])\n",
    "i2 = np.array(df1.iloc[:,4])\n",
    "v3 = np.array(df1.iloc[:,6])\n",
    "i3 = np.array(df1.iloc[:,7])\n",
    "v4 = np.array(df1.iloc[:,9])\n",
    "i4 = np.array(df1.iloc[:,10])"
   ]
  },
  {
   "cell_type": "code",
   "execution_count": 8,
   "metadata": {},
   "outputs": [
    {
     "data": {
      "image/png": "[encoded data removed]",
      "text/plain": [
       "<matplotlib.figure.Figure at 0x20763e8ad68>"
      ]
     },
     "metadata": {},
     "output_type": "display_data"
    },
    {
     "data": {
      "text/plain": [
       "<matplotlib.figure.Figure at 0x20764014eb8>"
      ]
     },
     "metadata": {},
     "output_type": "display_data"
    }
   ],
   "source": [
    "prop=matplotlib.font_manager.FontProperties(fname=\"C:\\Windows\\Fonts\\HGRMB.TTC\")\n",
    "plt.xlim(0,3.2)\n",
    "plt.ylim(0,2)\n",
    "plt.scatter(i1,v1-100*i1/1000,label=\"10Torr\")\n",
    "plt.scatter(i2,v2-100*i2/1000,label=\"5Torr\")\n",
    "plt.scatter(i3,v3-100*i3/1000,label=\"2Torr\")\n",
    "plt.scatter(i4,v4-100*i4/1000,label=\"1Torr\")\n",
    "plt.xlabel(\"電流I [mA]\",fontproperties=prop)\n",
    "#plt.xlabel(\"負荷の個数n [個]\",fontproperties=prop)\n",
    "plt.ylabel(\"電圧V [kV]\",fontproperties=prop)\n",
    "plt.title(\"グロー放電の電圧電流特性\",fontproperties=prop)\n",
    "plt.legend()\n",
    "plt.show()\n",
    "plt.savefig(\"glow.png\")"
   ]
  },
  {
   "cell_type": "code",
   "execution_count": null,
   "metadata": {},
   "outputs": [],
   "source": []
  },
  {
   "cell_type": "code",
   "execution_count": null,
   "metadata": {},
   "outputs": [],
   "source": []
  }
 ],
 "metadata": {
  "kernelspec": {
   "display_name": "Python 3",
   "language": "python",
   "name": "python3"
  },
  "language_info": {
   "codemirror_mode": {
    "name": "ipython",
    "version": 3
   },
   "file_extension": ".py",
   "mimetype": "text/x-python",
   "name": "python",
   "nbconvert_exporter": "python",
   "pygments_lexer": "ipython3",
   "version": "3.6.4"
  }
 },
 "nbformat": 4,
 "nbformat_minor": 2
}
