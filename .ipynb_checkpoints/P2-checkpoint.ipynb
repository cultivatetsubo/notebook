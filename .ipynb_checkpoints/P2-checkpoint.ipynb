{
 "cells": [
  {
   "cell_type": "code",
   "execution_count": 23,
   "metadata": {
    "scrolled": true
   },
   "outputs": [
    {
     "data": {
      "image/png": "[encoded data removed]",
      "text/plain": [
       "<matplotlib.figure.Figure at 0x2644db66b00>"
      ]
     },
     "metadata": {},
     "output_type": "display_data"
    }
   ],
   "source": [
    "import numpy as np\n",
    "from pandas import Series,DataFrame\n",
    "import pandas as pd\n",
    "import scipy.optimize\n",
    "import matplotlib.pylab as plt\n",
    "import seaborn as sns\n",
    "%matplotlib inline\n",
    "test1=np.loadtxt('P2_1.txt').T\n",
    "test2=np.loadtxt(\"P2_2.txt\").T\n",
    "test3=np.loadtxt('P2_3.txt').T\n",
    "\n",
    "f1=np.array(test1[0])\n",
    "f2=np.array(test2[0])\n",
    "f3=np.array(test3[0])\n",
    "v1=np.array(test1[1])\n",
    "v2=np.array(test2[1])\n",
    "v3=np.array(test3[1])\n",
    "voltage1=np.array(test1[2])*0.001\n",
    "voltage2=np.array(test2[2])*0.001\n",
    "voltage3=np.array(test3[2])*0.001\n",
    "R=10\n",
    "current1=v1/R\n",
    "current2=v2/R\n",
    "current3=v3/R\n",
    "phasediff1=(test1[0]*test1[3]*np.pi*2*0.000001)\n",
    "phasediff2=(test2[0]*test2[3]*np.pi*2*0.000001)\n",
    "phasediff3=(test3[0]*test3[3]*np.pi*2*0.000001)\n",
    "plt.plot(test1[0],phasediff1,'o',label=\"16-1\",color=\"blue\")\n",
    "plt.plot(test2[0],phasediff2,'o',label=\"16-2\",color=\"red\")\n",
    "plt.plot(test3[0],phasediff3,'o',label=\"16-3\",color=\"green\")\n",
    "plt.xscale('log')\n",
    "plt.xlabel(\"frequency-logscale[Hz]\")\n",
    "plt.ylabel(\"phasediff[rad]\")\n",
    "plt.legend()\n",
    "file1=\"p2-1.eps\"\n",
    "plt.savefig(file1)\n",
    "plt.show()"
   ]
  },
  {
   "cell_type": "code",
   "execution_count": 24,
   "metadata": {},
   "outputs": [],
   "source": [
    "p2=np.array([[ 10000,5000,2000,1000,500,200,100],[ 301.80872795,302.23637218,306.6490566,306.6490566,303.67104646,340.98924731,339.08693631],[  2.17573562e-07,2.14947326e-07,2.14139253e-07,2.14139253e-07,\n",
    "2.15250353e-07,2.16058426e-07,2.17270535e-07],[1.52286738,3.07858551,7.61433688,15.22867377,30.59727409,67.86691569,135.73383139]])"
   ]
  },
  {
   "cell_type": "code",
   "execution_count": null,
   "metadata": {
    "collapsed": true
   },
   "outputs": [],
   "source": []
  }
 ],
 "metadata": {
  "kernelspec": {
   "display_name": "Python 3",
   "language": "python",
   "name": "python3"
  },
  "language_info": {
   "codemirror_mode": {
    "name": "ipython",
    "version": 3
   },
   "file_extension": ".py",
   "mimetype": "text/x-python",
   "name": "python",
   "nbconvert_exporter": "python",
   "pygments_lexer": "ipython3",
   "version": "3.6.1"
  }
 },
 "nbformat": 4,
 "nbformat_minor": 2
}
