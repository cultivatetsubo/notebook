{
 "cells": [
  {
   "cell_type": "code",
   "execution_count": null,
   "metadata": {
    "collapsed": true
   },
   "outputs": [],
   "source": [
    "import numpy as np\n",
    "from pandas import Series,DataFrame\n",
    "import pandas as pd\n",
    "import scipy.optimize\n",
    "import matplotlib.pylab as plt\n",
    "import seaborn as sns\n",
    "%matplotlib inline\n",
    "from datetime import datetime as dt\n",
    "\n",
    "amp20=np.loadtxt('20dBtxt.txt').T\n",
    "amp40=np.loadtxt('40dBtxt.txt').T\n",
    "f20=amp20[0]\n",
    "f40=amp40[0]\n",
    "g20=amp20[1]\n",
    "g40=amp40[1]\n",
    "phase20=amp20[2]\n",
    "phase40=amp40[2]\n",
    "diff1=np.loadtxt('diff_1.txt').T\n",
    "diff2=np.loadtxt('diff_2.txt').T\n",
    "diff3=np.loadtxt('differ_3.txt').T\n",
    "diff4=np.loadtxt('differ_4.txt').T\n",
    "c1=diff1[2][diff1[2]<0]\n",
    "c2=diff1[2][diff1[2]>0]-360\n",
    "phase1=np.concatenate([c1,c2 ], axis=0)\n",
    "c1=diff2[2][diff2[2]<0]\n",
    "c2=diff2[2][diff2[2]>0]-360\n",
    "phase2=np.concatenate([c1,c2 ], axis=0)\n",
    "c1=diff3[2][diff3[2]<0]\n",
    "c2=diff3[2][diff3[2]>0]-360\n",
    "phase3=np.concatenate([c1,c2 ], axis=0)\n",
    "c1=diff4[2][diff4[2]<0]\n",
    "c2=diff4[2][diff4[2]>0]-360\n",
    "phase4=np.concatenate([c1,c2 ], axis=0)\n",
    "def coodinate_sort(x,y,a,b):\n",
    "    print('指定されたx座標に近いプロット:x;{0},y;{1}'.format(a[(0.95*x<a)&(a<1.1*x)],b[(0.95*x<a)&(a<1.1*x)]))\n",
    "    print('指定されたy座標に近いプロット:x;{0},y;{1}'.format(a[(0.95*y<b)&(b<1.05*y)],b[(0.95*y<b)&(b<1.05*y)]))\n",
    "diff3_step =np.loadtxt(\"diff3_step.txt\").T\n",
    "diff4_step =np.loadtxt(\"diff4_step.txt\").T"
   ]
  },
  {
   "cell_type": "code",
   "execution_count": null,
   "metadata": {},
   "outputs": [],
   "source": [
    "#plt.xscale(\"log\")\n",
    "\n",
    "plt.plot(diff3_step[0]*0.000001,diff3_step[1],'.',label=\"R_r\",color=\"blue\")\n",
    "#plt.plot(diff4_step[0],diff4_step[1],'.',label=\"--\",color=\"yellow\")\n",
    "#plt.plot(diff2[0],diff2[2],'.',label=\"20dB\",color=\"green\")\n",
    "plt.xlabel(\"time[s]\")\n",
    "plt.ylabel(\"voltage[V]\")\n",
    "#plt.axhline(37,ls='-',label=\"40-3[dB]\")\n",
    "#plt.axhline(17,ls='-',label=\"20-3[dB]\",color='red')\n",
    "#plt.axvline(x=63095,ls='--',color='red')\n",
    "#plt.axvline(x=8912,ls='--')\n",
    "plt.legend()\n",
    "file1=\"A2-3.png\"\n",
    "plt.savefig(file1)\n",
    "plt.show()\n",
    "plt.plot(diff4_step[0]*0.000001,diff4_step[1],'.',label=\"--\",color=\"yellow\")\n",
    "#plt.plot(diff4_step[0],diff4_step[1],'.',label=\"--\",color=\"yellow\")\n",
    "#plt.plot(diff2[0],diff2[2],'.',label=\"20dB\",color=\"green\")\n",
    "plt.xlabel(\"time[s]\")\n",
    "plt.ylabel(\"voltage[V]\")\n",
    "#plt.axhline(37,ls='-',label=\"40-3[dB]\")\n",
    "#plt.axhline(17,ls='-',label=\"20-3[dB]\",color='red')\n",
    "#plt.axvline(x=63095,ls='--',color='red')\n",
    "#plt.axvline(x=8912,ls='--')\n",
    "plt.legend()\n",
    "file1=\"A2-3-2.png\"\n",
    "plt.savefig(file1)\n",
    "plt.show()"
   ]
  },
  {
   "cell_type": "code",
   "execution_count": null,
   "metadata": {
    "scrolled": true
   },
   "outputs": [],
   "source": [
    "plt.xscale(\"log\")\n",
    "plt.plot(diff1[0],diff1[1],'.',label=\"R_r,C_f\",color=\"green\")\n",
    "plt.plot(diff2[0],diff2[1],'.',label=\"C_f\",color=\"red\")\n",
    "plt.plot(diff3[0],diff3[1],'.',label=\"R_r\",color=\"blue\")\n",
    "plt.plot(diff4[0],diff4[1],'.',label=\"--\",color=\"yellow\")\n",
    "#plt.plot(diff2[0],diff2[2],'.',label=\"20dB\",color=\"green\")\n",
    "plt.xlabel(\"frequency[Hz](log-sacle)\")\n",
    "plt.ylabel(\"phase[deg]\")\n",
    "#plt.axhline(37,ls='-',label=\"40-3[dB]\")\n",
    "#plt.axhline(17,ls='-',label=\"20-3[dB]\",color='red')\n",
    "#plt.axvline(x=63095,ls='--',color='red')\n",
    "#plt.axvline(x=8912,ls='--')\n",
    "plt.legend()\n",
    "file1=\"diffgain.png\"\n",
    "plt.savefig(file1)\n",
    "plt.show()"
   ]
  },
  {
   "cell_type": "code",
   "execution_count": null,
   "metadata": {},
   "outputs": [],
   "source": [
    "plt.xscale(\"log\")\n",
    "plt.plot(diff2[0],diff2[1],'.',label=\"20dB\",color=\"red\")\n",
    "plt.xlabel(\"frequency[Hz](log-sacle)\")\n",
    "plt.ylabel(\"Gain[dB]\")\n",
    "#plt.axhline(37,ls='-',label=\"40-3[dB]\")\n",
    "#plt.axhline(17,ls='-',label=\"20-3[dB]\",color='red')\n",
    "#plt.axvline(x=63095,ls='--',color='red')\n",
    "#plt.axvline(x=8912,ls='--')\n",
    "plt.show()"
   ]
  },
  {
   "cell_type": "code",
   "execution_count": null,
   "metadata": {},
   "outputs": [],
   "source": [
    "plt.xscale(\"log\")\n",
    "plt.plot(f20,g20,'.',label=\"20dB\",color=\"red\")\n",
    "plt.plot(f40,g40,'.',label='40dB')\n",
    "plt.xlabel(\"frequency[Hz](log-sacle)\")\n",
    "plt.ylabel(\"Gain[dB]\")\n",
    "plt.axhline(37,ls='-',label=\"40-3[dB]\")\n",
    "plt.axhline(17,ls='-',label=\"20-3[dB]\",color='red')\n",
    "plt.axvline(x=63095,ls='--',color='red')\n",
    "plt.axvline(x=8912,ls='--')\n",
    "#plt.axvline(x=100000,ls='--',color='red')\n",
    "#plt.axvline(x=25118,ls='--',color='blue')\n",
    "plt.legend()\n",
    "file1=\"A2.png\"\n",
    "plt.savefig(file1)\n",
    "plt.show()"
   ]
  },
  {
   "cell_type": "code",
   "execution_count": null,
   "metadata": {},
   "outputs": [],
   "source": [
    "plt.xscale(\"log\")\n",
    "plt.plot(f20,phase20,'.',label=\"20dB\",color=\"red\")\n",
    "plt.plot(f40,phase40,'.',label='40dB')\n",
    "plt.xlabel(\"frequency[Hz](log-sacle)\")\n",
    "plt.ylabel(\"pahse[deg]\")\n",
    "#plt.axhline(y=135,ls='--',label='135deg',color='black')\n",
    "#plt.axvline(x=63095,ls='--',color='red')\n",
    "#plt.axvline(x=8912,ls='--',color='blue')\n",
    "plt.legend()\n",
    "file1=\"A2_1.png\"\n",
    "plt.savefig(file1)\n",
    "plt.show()"
   ]
  },
  {
   "cell_type": "code",
   "execution_count": null,
   "metadata": {},
   "outputs": [],
   "source": [
    "omega=f20\n",
    "omega_p=63095\n",
    "\n",
    "A=20/(1+f20**2/omega_p**2)**0.5\n",
    "plt.xscale('log')\n",
    "plt.plot(f20,g20,'.',label='experimental-value',color=\"red\")\n",
    "plt.plot(f20,A,'-',label='theorical-value')\n",
    "plt.xlabel(\"frequency[Hz](log-sacle)\")\n",
    "plt.ylabel(\"H\")\n",
    "#plt.xlim([10000,100000])\n",
    "plt.legend()\n",
    "file1=\"A2_1.png\"\n",
    "plt.savefig(file1)\n",
    "plt.show()"
   ]
  },
  {
   "cell_type": "code",
   "execution_count": null,
   "metadata": {},
   "outputs": [],
   "source": [
    "omega=f20\n",
    "omega_p=63095\n",
    "\n",
    "argA=(np.pi-np.arctan(omega/omega_p))*180/np.pi\n",
    "plt.xscale('log')\n",
    "plt.plot(f20,phase20,'.',label='experimental-value',color=\"red\")\n",
    "plt.plot(f20,argA,'-',label='theorical-value')\n",
    "plt.xlabel(\"frequency[Hz](log-sacle)\")\n",
    "plt.ylabel(\"H\")\n",
    "#plt.xlim([10000,100000])\n",
    "plt.legend()\n",
    "file1=\"A2_1.png\"\n",
    "plt.savefig(file1)\n",
    "plt.show()"
   ]
  },
  {
   "cell_type": "code",
   "execution_count": null,
   "metadata": {
    "collapsed": true
   },
   "outputs": [],
   "source": []
  }
 ],
 "metadata": {
  "kernelspec": {
   "display_name": "Python 3",
   "language": "python",
   "name": "python3"
  },
  "language_info": {
   "codemirror_mode": {
    "name": "ipython",
    "version": 3
   },
   "file_extension": ".py",
   "mimetype": "text/x-python",
   "name": "python",
   "nbconvert_exporter": "python",
   "pygments_lexer": "ipython3",
   "version": "3.6.1"
  }
 },
 "nbformat": 4,
 "nbformat_minor": 2
}
