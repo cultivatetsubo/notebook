{
 "cells": [
  {
   "cell_type": "code",
   "execution_count": null,
   "metadata": {},
   "outputs": [],
   "source": [
    "import numpy as np\n",
    "from pandas import Series,DataFrame\n",
    "import pandas as pd\n",
    "import scipy.optimize\n",
    "import matplotlib.pylab as plt\n",
    "import seaborn as sns\n",
    "import cmath\n",
    "import math\n",
    "%matplotlib inline\n",
    "def coodinate_sort(x,y,a,b):\n",
    "    #グラフ上のある点の片方の座標を指定したときもう片方の座標がいくつか調べる関数\n",
    "    print('指定されたx座標に近いプロット:x;{0},y;{1}'.format(a[(0.95*x<a)&(a<1.1*x)],b[(0.95*x<a)&(a<1.1*x)]))\n",
    "    print('指定されたy座標に近いプロット:x;{0},y;{1}'.format(a[(0.95*y<b)&(b<1.05*y)],b[(0.95*y<b)&(b<1.05*y)]))\n",
    "def phase_clean(phase):\n",
    "    #位相のデータが途中で360度ずれるのを補正する関数\n",
    "    c1=phase[phase<0]\n",
    "    c2=phase[phase>0]-360\n",
    "    return np.concatenate([c1,c2 ], axis=0)\n",
    "#plt.plot(x1,y1,'.',label=\"current\",color=\"blue\")\n",
    "#plt.plot(x2,y2,'-',label=\"current-theorical value\",color=\"blue\")\n",
    "#plt.xscale('log')\n",
    "#plt.xlabel(\"voltage[V]\")\n",
    "#plt.ylabel(\"current[mA]\")\n",
    "#plt.axhline(37,ls='-',label=\"40-3[dB]\")\n",
    "#plt.axhline(17,ls='-',label=\"20-3[dB]\",color='red')\n",
    "#plt.axvline(x=63095,ls='--',color='red')\n",
    "#plt.axvline(x=8912,ls='--')\n",
    "plt.legend()\n",
    "file1=\"A1-X.eps\"\n",
    "plt.savefig(file1)\n",
    "plt.show()"
   ]
  }
 ],
 "metadata": {
  "kernelspec": {
   "display_name": "Python 3",
   "language": "python",
   "name": "python3"
  },
  "language_info": {
   "codemirror_mode": {
    "name": "ipython",
    "version": 3
   },
   "file_extension": ".py",
   "mimetype": "text/x-python",
   "name": "python",
   "nbconvert_exporter": "python",
   "pygments_lexer": "ipython3",
   "version": "3.6.4"
  }
 },
 "nbformat": 4,
 "nbformat_minor": 2
}
