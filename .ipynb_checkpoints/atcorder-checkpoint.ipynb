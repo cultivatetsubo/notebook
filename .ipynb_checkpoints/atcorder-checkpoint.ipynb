{
 "cells": [
  {
   "cell_type": "code",
   "execution_count": 23,
   "metadata": {},
   "outputs": [
    {
     "name": "stdout",
     "output_type": "stream",
     "text": [
      "dreamdream\n",
      "dream\n",
      "\n",
      "YES\n"
     ]
    }
   ],
   "source": [
    "s=str(input())\n",
    "if(s==\"\"):\n",
    "    print(\"NO\")\n",
    "else:\n",
    "    \n",
    "    while(s!=\"\"):\n",
    "        scopy=s\n",
    "        if(scopy[-5:]==\"dream\"):\n",
    "            s=scopy[:-5]\n",
    "        elif(scopy[-5:]==\"erase\"):\n",
    "            s=scopy[:-5]\n",
    "        elif(scopy[-6:]==\"eraser\"):\n",
    "            s=scopy[:-6]\n",
    "        elif(scopy[-7:]==\"dreamer\"):\n",
    "            s=scopy[:-7]\n",
    "        else:\n",
    "            break;\n",
    "    if(s==\"\"):\n",
    "        print('YES')\n",
    "    else:\n",
    "        print('NO')"
   ]
  },
  {
   "cell_type": "code",
   "execution_count": null,
   "metadata": {},
   "outputs": [
    {
     "name": "stdout",
     "output_type": "stream",
     "text": [
      "2\n"
     ]
    }
   ],
   "source": [
    "N=int(input())\n",
    "listn=[[]*3]*N\n",
    "for i in range(N):\n",
    "    listn[i]=list(map(int,input().split()))\n",
    "def can(t1,x1,y1,t2,x2,y2):\n",
    "    s=x2-x1+y2-y1\n",
    "    t=(x2-x1)*(y2-y1)\n",
    "    if((abs(s)==1)&(abs(t)==1)):\n",
    "        return 1;\n",
    "    else:\n",
    "        return 0;\n",
    "d=0\n",
    "for i in range(N-1):\n",
    "    d+=can(listn[i][1],listn[i][2],listn[i+1][1],list[i+1][2])\n",
    "if(d==N-1):\n",
    "    print(YES)\n",
    "else:\n",
    "    print(NO)"
   ]
  },
  {
   "cell_type": "code",
   "execution_count": null,
   "metadata": {},
   "outputs": [],
   "source": []
  }
 ],
 "metadata": {
  "kernelspec": {
   "display_name": "Python 3",
   "language": "python",
   "name": "python3"
  },
  "language_info": {
   "codemirror_mode": {
    "name": "ipython",
    "version": 3
   },
   "file_extension": ".py",
   "mimetype": "text/x-python",
   "name": "python",
   "nbconvert_exporter": "python",
   "pygments_lexer": "ipython3",
   "version": "3.6.4"
  }
 },
 "nbformat": 4,
 "nbformat_minor": 2
}
